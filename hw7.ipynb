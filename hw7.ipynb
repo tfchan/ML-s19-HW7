{
 "cells": [
  {
   "cell_type": "markdown",
   "metadata": {},
   "source": [
    "# Machine learning homework7"
   ]
  },
  {
   "cell_type": "markdown",
   "metadata": {},
   "source": [
    "## 0 Preparation"
   ]
  },
  {
   "cell_type": "markdown",
   "metadata": {},
   "source": [
    "### 0.1 Import librarys"
   ]
  },
  {
   "cell_type": "code",
   "execution_count": null,
   "metadata": {},
   "outputs": [],
   "source": [
    "import numpy as np\n",
    "import matplotlib.pyplot as plt\n",
    "from cv2 import imread, IMREAD_GRAYSCALE"
   ]
  },
  {
   "cell_type": "markdown",
   "metadata": {},
   "source": [
    "### 0.2 Read data from files"
   ]
  },
  {
   "cell_type": "code",
   "execution_count": null,
   "metadata": {},
   "outputs": [],
   "source": [
    "mnist_x = np.loadtxt('data/mnist_X.csv', delimiter=',')\n",
    "mnist_y = np.loadtxt('data/mnist_label.csv', delimiter=',')"
   ]
  },
  {
   "cell_type": "markdown",
   "metadata": {},
   "source": [
    "## 1 Different dimension reduction methods"
   ]
  },
  {
   "cell_type": "code",
   "execution_count": null,
   "metadata": {},
   "outputs": [],
   "source": [
    "def dim_reduce(x, y, method, need_y=False, title=''):\n",
    "    \"\"\"Use specific method to reduce dimension to 2 and plot result.\"\"\"\n",
    "    x_reduce = method(x, y, reduce_to=2) if need_y else method(x, reduce_to=2)\n",
    "    fig, ax = plt.subplots()\n",
    "    fig.suptitle(title)\n",
    "    ax.scatter(x_reduce[:, 0], x_reduce[:, 1], c=y)\n",
    "    plt.show()"
   ]
  },
  {
   "cell_type": "markdown",
   "metadata": {},
   "source": [
    "### 1.1 PCA (Principal Component Analysis)"
   ]
  },
  {
   "cell_type": "code",
   "execution_count": null,
   "metadata": {},
   "outputs": [],
   "source": [
    "def pca(x, reduce_to=2, return_eigen=False):\n",
    "    \"\"\"Perform PCA on dataset x, reduce to a certain dimension.\"\"\"\n",
    "    # Compute convariance matrix\n",
    "    x_cov = np.cov(x, rowvar=False)\n",
    "    # Compute eigen value and eigen vector of convariance\n",
    "    eigen_val, eigen_vec = np.linalg.eig(x_cov)\n",
    "    # Sort eigen value and vector according to eigen value in descending order\n",
    "    eigen_vec = eigen_vec[:, np.argsort(eigen_val)[::-1]]\n",
    "    eigen_val = eigen_val[np.argsort(eigen_val)[::-1]]\n",
    "    # Project original data to new space\n",
    "    result = x @ eigen_vec[:, :reduce_to]\n",
    "    ret = result.real if not return_eigen else (result.real, (eigen_val, eigen_vec)) \n",
    "    return ret"
   ]
  },
  {
   "cell_type": "code",
   "execution_count": null,
   "metadata": {},
   "outputs": [],
   "source": [
    "dim_reduce(mnist_x, mnist_y, pca, title='PCA without standardization')"
   ]
  },
  {
   "cell_type": "code",
   "execution_count": null,
   "metadata": {},
   "outputs": [],
   "source": [
    "def standardize(x):\n",
    "    \"\"\"Standardize x, resulting in zero mean and unit variance.\"\"\"\n",
    "    z = np.zeros_like(x)\n",
    "    std_x = x.std(axis=0)\n",
    "    std_x_gt0 = std_x > 0\n",
    "    z[:, std_x_gt0] = (x - x.mean(axis=0))[:, std_x_gt0] / std_x[std_x_gt0]\n",
    "    return z"
   ]
  },
  {
   "cell_type": "code",
   "execution_count": null,
   "metadata": {},
   "outputs": [],
   "source": [
    "dim_reduce(standardize(mnist_x), mnist_y, pca, title='PCA with standardization')"
   ]
  },
  {
   "cell_type": "markdown",
   "metadata": {},
   "source": [
    "### 1.2 LDA (Linear Discriminant Analysis)"
   ]
  },
  {
   "cell_type": "markdown",
   "metadata": {},
   "source": [
    "Reference:\n",
    "- https://sebastianraschka.com/Articles/2014_python_lda.html"
   ]
  },
  {
   "cell_type": "code",
   "execution_count": null,
   "metadata": {},
   "outputs": [],
   "source": [
    "def lda(x, y, reduce_to=2, return_eigen=False):\n",
    "    \"\"\"Perform LDA on dataset x, reduce to a certain dimension.\"\"\"\n",
    "    labels = np.unique(y)\n",
    "    n_dim = x.shape[1]\n",
    "    s_w = np.zeros((n_dim, n_dim))\n",
    "    s_b = np.zeros_like(s_w)\n",
    "    total_mean = x.mean(axis=0)\n",
    "    for label in labels:\n",
    "        mean = x[y==label].mean(axis=0)\n",
    "        # Compute within-class scatter matrix\n",
    "        s_w += np.cov(x[y==label], rowvar=False)\n",
    "        # Compute between-class scatter matrix\n",
    "        to_total_mean = mean - total_mean\n",
    "        s_b += (to_total_mean[None, :] * to_total_mean[:, None]) * (y==label).sum()\n",
    "    # Get eigen value and eigen vector from (s_w)^-1 * s_b\n",
    "    eigen_val, eigen_vec = np.linalg.eig(np.linalg.pinv(s_w) @ s_b)\n",
    "    # Sort eigen value and vector according to eigen value in descending order\n",
    "    eigen_vec = eigen_vec[:, np.argsort(eigen_val)[::-1]]\n",
    "    eigen_val = eigen_val[np.argsort(eigen_val)[::-1]]\n",
    "    # Project original data to new space\n",
    "    result = x @ eigen_vec[:, :reduce_to]\n",
    "    ret = result.real if not return_eigen else (result.real, (eigen_val, eigen_vec)) \n",
    "    return ret"
   ]
  },
  {
   "cell_type": "code",
   "execution_count": null,
   "metadata": {},
   "outputs": [],
   "source": [
    "dim_reduce(mnist_x, mnist_y, lda, need_y=True, title='LDA without standardization')"
   ]
  },
  {
   "cell_type": "code",
   "execution_count": null,
   "metadata": {},
   "outputs": [],
   "source": [
    "dim_reduce(standardize(mnist_x), mnist_y, lda, need_y=True, title='LDA with standardization')"
   ]
  },
  {
   "cell_type": "markdown",
   "metadata": {},
   "source": [
    "### 1.3 Symmetric SNE and T-SNE (Stochastic Neighbor Embedding)"
   ]
  },
  {
   "cell_type": "markdown",
   "metadata": {},
   "source": [
    "## 2 Eigen face"
   ]
  },
  {
   "cell_type": "markdown",
   "metadata": {},
   "source": [
    "### 2.1 Read all images"
   ]
  },
  {
   "cell_type": "code",
   "execution_count": null,
   "metadata": {},
   "outputs": [],
   "source": [
    "n_subjects = 40\n",
    "n_img_per_subject = 10\n",
    "images = None\n",
    "for i in range(n_subjects):\n",
    "    for j in range(n_img_per_subject):\n",
    "        path = f'data/att_faces/s{i + 1}/{j + 1}.pgm'\n",
    "        img = imread(path, IMREAD_GRAYSCALE)[None]\n",
    "        images = img if images is None else np.concatenate((images, img))\n",
    "n_images, img_h, img_w = images.shape"
   ]
  },
  {
   "cell_type": "markdown",
   "metadata": {},
   "source": [
    "### 2.2 Define normalization function"
   ]
  },
  {
   "cell_type": "code",
   "execution_count": null,
   "metadata": {},
   "outputs": [],
   "source": [
    "def normalize(x):\n",
    "    \"\"\"Normalize x.\"\"\"\n",
    "    x_min = x.min(axis=0)\n",
    "    x_max = x.max(axis=0)\n",
    "    z = (x - x_min) / (x_max - x_min)\n",
    "    return z"
   ]
  },
  {
   "cell_type": "markdown",
   "metadata": {},
   "source": [
    "### 2.3 Apply PCA to normalized images"
   ]
  },
  {
   "cell_type": "code",
   "execution_count": null,
   "metadata": {},
   "outputs": [],
   "source": [
    "def to_images(data, h, w, reverse=False):\n",
    "    \"\"\"Convert features to images, or reverse.\"\"\"\n",
    "    if reverse:  # Images to feature\n",
    "        if data.ndim == 2:  # One data\n",
    "            result = data.reshape(np.prod(data.shape))\n",
    "        else:  # Multiple data\n",
    "            result = data.reshape((data.shape[0], np.prod(data.shape[1:])))\n",
    "    else:  # Features to images\n",
    "        if data.ndim == 1:  # One data\n",
    "            result = data.reshape((h, w))\n",
    "        else:  # Multiple data\n",
    "            result = data.reshape((data.shape[0], h, w))\n",
    "    return result\n",
    "images_x = to_images(images, None, None, reverse=True)"
   ]
  },
  {
   "cell_type": "code",
   "execution_count": null,
   "metadata": {},
   "outputs": [],
   "source": [
    "n_pc = 32\n",
    "images_x_reduced, eigen = pca(normalize(images_x), reduce_to=n_pc, return_eigen=True)"
   ]
  },
  {
   "cell_type": "markdown",
   "metadata": {},
   "source": [
    "### 2.4 Show eigen face"
   ]
  },
  {
   "cell_type": "code",
   "execution_count": null,
   "metadata": {},
   "outputs": [],
   "source": [
    "n_eigen_face = 25\n",
    "n_col = 5\n",
    "n_row = np.ceil(n_eigen_face / 5).astype(int)\n",
    "fig, ax = plt.subplots(n_row , n_col, figsize=(n_col * 2.5, n_row * 2.5))\n",
    "fig.suptitle(f'First {n_eigen_face} eigen face')\n",
    "for i in range(n_eigen_face):\n",
    "    row_idx = i // n_col\n",
    "    col_idx = int(i % n_col)\n",
    "    img = to_images(eigen[1][:, i].real, img_h, img_w)\n",
    "    ax[row_idx, col_idx].set_title(f'{i + 1}-th eigen face')\n",
    "    ax[row_idx, col_idx].imshow(img, cmap='gray')\n",
    "    ax[row_idx, col_idx].set_axis_off()\n",
    "plt.show()"
   ]
  },
  {
   "cell_type": "markdown",
   "metadata": {},
   "source": [
    "### 2.5 Reconstruct faces"
   ]
  },
  {
   "cell_type": "code",
   "execution_count": null,
   "metadata": {},
   "outputs": [],
   "source": [
    "n_reconstruct = 10\n",
    "reconstruct_idx = np.random.randint(0, n_images, n_reconstruct)\n",
    "fig, ax = plt.subplots(n_reconstruct , 2, figsize=(6, n_reconstruct * 2.5))\n",
    "fig.suptitle(f'Random {n_reconstruct} face to reconstuct')\n",
    "for i in range(n_reconstruct):\n",
    "    idx = reconstruct_idx[i]\n",
    "    ax[i, 0].imshow(images[idx], cmap='gray')\n",
    "    ax[i, 0].set_title('original')\n",
    "    ax[i, 0].set_axis_off()\n",
    "    img = (images_x_reduced[idx] @ eigen[1][:, 0:n_pc].T).real\n",
    "    img = to_images(img, img_h, img_w)\n",
    "    ax[i, 1].imshow(img, cmap='gray')\n",
    "    ax[i, 1].set_title('reconstruct')\n",
    "    ax[i, 1].set_axis_off()\n",
    "plt.show()"
   ]
  }
 ],
 "metadata": {
  "kernelspec": {
   "display_name": "Python 3",
   "language": "python",
   "name": "python3"
  },
  "language_info": {
   "codemirror_mode": {
    "name": "ipython",
    "version": 3
   },
   "file_extension": ".py",
   "mimetype": "text/x-python",
   "name": "python",
   "nbconvert_exporter": "python",
   "pygments_lexer": "ipython3",
   "version": "3.6.7"
  }
 },
 "nbformat": 4,
 "nbformat_minor": 2
}
